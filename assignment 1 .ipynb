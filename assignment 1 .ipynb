{
 "cells": [
  {
   "cell_type": "markdown",
   "metadata": {},
   "source": [
    "Programming Task\n",
    "1. Dominant Value Function: Create a function in Python that calculates and returns the dominant value (eigenvalue with the largest magnitude) of a given matrix.\n",
    "2. Inverse Matrix: Use the dominant value function to assist in writing a function that calculates the inverse of a given matrix.\n",
    "3. Identity Matrix Function: Create a function in Python that calculates and returns the identity matrix of the same dimension as the given matrix.\n"
   ]
  },
  {
   "cell_type": "code",
   "execution_count": 1,
   "metadata": {},
   "outputs": [
    {
     "name": "stdout",
     "output_type": "stream",
     "text": [
      "[[ 1.00000000e+00  5.55111512e-17  1.66533454e-16]\n",
      " [ 2.22044605e-16  1.00000000e+00 -2.22044605e-16]\n",
      " [ 0.00000000e+00  0.00000000e+00  1.00000000e+00]]\n"
     ]
    }
   ],
   "source": [
    "import numpy as np \n",
    "def CreateArray ():\n",
    "    # the use of this funtion is to create 3 arrays with 3 random elements with a range from 1 to 10 \n",
    "    # and merge the 3 array and then return 3 by 3 array \n",
    "    array1=np.random.randint(1,10,3)\n",
    "    array2=np.random.randint(1,10,3)\n",
    "    array3=np.random.randint(1,10,3)\n",
    "    return np.array([array1,array2,array3])\n",
    "\n",
    "def EigenValue(matrix):\n",
    "    #this funtion generates the eigenvalue of the matrix passed and then get the max of the eigenvalues \n",
    "    return np.linalg.eig(matrix)[0].max()\n",
    "\n",
    "def MatrixInverse (matrix):\n",
    "    #this funtion return the inverse of the matrix passed\n",
    "    return np.linalg.inv(matrix)\n",
    "\n",
    "def IdentityMatrix (InverseMatrix,matrix):\n",
    "    #this funtion returns the dot multplication of the matrix and its inverse which should be identity matrix \n",
    "    return np.dot(InverseMatrix,matrix)\n",
    "    \n",
    "\n",
    "matrix=CreateArray()\n",
    "InverseMatrix=MatrixInverse(matrix)\n",
    "IdentityMatrix=IdentityMatrix(InverseMatrix,matrix)\n",
    "print(IdentityMatrix)\n"
   ]
  }
 ],
 "metadata": {
  "kernelspec": {
   "display_name": "venv",
   "language": "python",
   "name": "python3"
  },
  "language_info": {
   "codemirror_mode": {
    "name": "ipython",
    "version": 3
   },
   "file_extension": ".py",
   "mimetype": "text/x-python",
   "name": "python",
   "nbconvert_exporter": "python",
   "pygments_lexer": "ipython3",
   "version": "3.11.4"
  }
 },
 "nbformat": 4,
 "nbformat_minor": 2
}
